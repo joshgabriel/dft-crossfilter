{
 "cells": [
  {
   "cell_type": "markdown",
   "metadata": {},
   "source": [
    "To Do:\n",
    "  1. find a method to convert dict of lists to list of dicts .. post pone for now \n",
    "  2. clean up data in API\n",
    "  3. think of collections of data for API: ReferenceExperiment, Precisions_Kpoints_and_Values\n",
    "  4. multiple window plotting for bokeh\n",
    "  5. integration of Shiny app like Pade manipulation feature"
   ]
  },
  {
   "cell_type": "code",
   "execution_count": null,
   "metadata": {
    "collapsed": true
   },
   "outputs": [],
   "source": [
    "# for azure notebook\n",
    "# !conda install pandas numpy bokeh=0.12.4 requests"
   ]
  },
  {
   "cell_type": "code",
   "execution_count": 1,
   "metadata": {
    "collapsed": true
   },
   "outputs": [],
   "source": [
    "# API connection stuff\n",
    "import requests\n",
    "import json"
   ]
  },
  {
   "cell_type": "code",
   "execution_count": 2,
   "metadata": {
    "collapsed": true
   },
   "outputs": [],
   "source": [
    "# Data management pandas and numpy\n",
    "import pandas as pd\n",
    "import numpy as np"
   ]
  },
  {
   "cell_type": "code",
   "execution_count": 3,
   "metadata": {
    "collapsed": true
   },
   "outputs": [],
   "source": [
    "# general system management\n",
    "import os\n",
    "from glob import glob"
   ]
  },
  {
   "cell_type": "code",
   "execution_count": 4,
   "metadata": {
    "collapsed": true
   },
   "outputs": [],
   "source": [
    "# bokeh packages\n",
    "import bokeh\n",
    "from bokeh.io import curdoc\n",
    "from bokeh.layouts import row, widgetbox, column\n",
    "from bokeh.models import Select, Div, Column, HoverTool, ColumnDataSource, Button, CheckboxButtonGroup\n",
    "from bokeh.models.widgets import RangeSlider\n",
    "from bokeh.plotting import figure"
   ]
  },
  {
   "cell_type": "code",
   "execution_count": 5,
   "metadata": {
    "collapsed": false
   },
   "outputs": [
    {
     "data": {
      "text/plain": [
       "'0.12.4'"
      ]
     },
     "execution_count": 5,
     "metadata": {},
     "output_type": "execute_result"
    }
   ],
   "source": [
    "bokeh.__version__"
   ]
  },
  {
   "cell_type": "code",
   "execution_count": 6,
   "metadata": {
    "collapsed": true
   },
   "outputs": [],
   "source": [
    "# plotting package matplotlib\n",
    "import matplotlib.pyplot as plt\n",
    "%matplotlib inline"
   ]
  },
  {
   "cell_type": "code",
   "execution_count": 36,
   "metadata": {
    "collapsed": true
   },
   "outputs": [],
   "source": [
    "# function to manage query requests\n",
    "def dict_to_api(query_dict):\n",
    "    \"\"\"\n",
    "    simple version of single value to dict query\n",
    "    \"\"\"\n",
    "    r = requests.post(url='http://0.0.0.0:5900/bench/v1/query',data=json.dumps(query_dict))\n",
    "    ListOfDicts = r.json()['content']\n",
    "    return pd.concat([pd.DataFrame({k:[ld[k]] for k in list(ld.keys())}) for ld in ListOfDicts])\n",
    "\n",
    "def user_to_dict(query):\n",
    "    \"\"\"\n",
    "    breaks up the user query into single value dicts for the api query\n",
    "    Example: {'code':['VASP','DMol3'],'exchange':['PBE','LDA'], 'element':['Ag'],'structure':['fcc','bcc','hcp'] }\n",
    "    \"\"\"\n",
    "    new_query_template = {key:[] for key in query}\n",
    "    ListOfDicts = []\n",
    "    \n",
    "    for k in new_query_template:\n",
    "        new_query = new_query_template\n",
    "        for v in query[k]:\n",
    "            \n",
    "            new_query[k].append(v[0])\n",
    "        for j in new_query_template:\n",
    "            \n",
    "            new_query[k].append(query[k][0])\n",
    "            print (new_query)\n",
    "    # let's say 3 keys, 2 values each\n",
    "    # means 6 single value dicts \n",
    "    # \n",
    "\n",
    "    \n",
    "    #multiple_value_keys = [k for k in query if len(query[k])>1]\n",
    "    #single_value_keys = [k for k in query if len(query[k])==1]\n",
    "    #print (multiple_value_keys, single_value_keys)\n",
    "    #matrix_of_queries = []\n",
    "            "
   ]
  },
  {
   "cell_type": "code",
   "execution_count": 34,
   "metadata": {
    "collapsed": false
   },
   "outputs": [
    {
     "name": "stdout",
     "output_type": "stream",
     "text": [
      "{'code': ['VASP'], 'exchange': [], 'element': [], 'structure': []}\n",
      "{'code': ['VASP'], 'exchange': ['PBE'], 'element': [], 'structure': []}\n",
      "{'code': ['VASP'], 'exchange': ['PBE'], 'element': ['Ag'], 'structure': []}\n",
      "{'code': ['VASP'], 'exchange': ['PBE'], 'element': ['Ag'], 'structure': ['fcc']}\n"
     ]
    }
   ],
   "source": [
    "# testing for multiple value comparison plot user requests - NOT DONE yet\n",
    "user_to_dict({'code':['VASP','DMol3'],'exchange':['PBE','LDA'], 'element':['Ag','Au'],'structure':['fcc','bcc'] })"
   ]
  },
  {
   "cell_type": "code",
   "execution_count": 38,
   "metadata": {
    "collapsed": false
   },
   "outputs": [],
   "source": [
    "user_request1 = dict_to_api({'code':'VASP','exchange':'PBE','element':'Au','structure':'hcp','properties':'B'})"
   ]
  },
  {
   "cell_type": "code",
   "execution_count": 41,
   "metadata": {
    "collapsed": false
   },
   "outputs": [],
   "source": [
    "user_request2 = dict_to_api({'code':'DMol3','exchange':'PBE','element':'Au','structure':'fcc','properties':'B'})"
   ]
  },
  {
   "cell_type": "markdown",
   "metadata": {},
   "source": [
    "# Widget testing"
   ]
  },
  {
   "cell_type": "code",
   "execution_count": 46,
   "metadata": {
    "collapsed": false
   },
   "outputs": [],
   "source": [
    "plot_data = {'x':np.unique(user_request1['k-point']), 'y': np.unique(user_request1['precision'])}"
   ]
  },
  {
   "cell_type": "code",
   "execution_count": 48,
   "metadata": {
    "collapsed": false
   },
   "outputs": [],
   "source": [
    "p = figure()"
   ]
  },
  {
   "cell_type": "code",
   "execution_count": 49,
   "metadata": {
    "collapsed": false
   },
   "outputs": [
    {
     "data": {
      "text/html": [
       "<div style=\"display: table;\"><div style=\"display: table-row;\"><div style=\"display: table-cell;\"><b title=\"bokeh.models.renderers.GlyphRenderer\">GlyphRenderer</b>(</div><div style=\"display: table-cell;\">id&nbsp;=&nbsp;'33fdf1fd-a4e5-4b3f-a958-70d252a70ce1', <span id=\"aaa88f84-78b4-426d-af94-0d3e1357cc86\" style=\"cursor: pointer;\">&hellip;)</span></div></div><div class=\"b99f7e57-70d0-41ba-9317-8bfd9b1a4421\" style=\"display: none;\"><div style=\"display: table-cell;\"></div><div style=\"display: table-cell;\">data_source&nbsp;=&nbsp;ColumnDataSource(id='a58e8e00-2d1b-41ec-9bd1-fa4d408cc38a', ...),</div></div><div class=\"b99f7e57-70d0-41ba-9317-8bfd9b1a4421\" style=\"display: none;\"><div style=\"display: table-cell;\"></div><div style=\"display: table-cell;\">glyph&nbsp;=&nbsp;Circle(id='55802ac1-c8fa-43b2-97e2-29eb54623006', ...),</div></div><div class=\"b99f7e57-70d0-41ba-9317-8bfd9b1a4421\" style=\"display: none;\"><div style=\"display: table-cell;\"></div><div style=\"display: table-cell;\">hover_glyph&nbsp;=&nbsp;None,</div></div><div class=\"b99f7e57-70d0-41ba-9317-8bfd9b1a4421\" style=\"display: none;\"><div style=\"display: table-cell;\"></div><div style=\"display: table-cell;\">js_callbacks&nbsp;=&nbsp;{},</div></div><div class=\"b99f7e57-70d0-41ba-9317-8bfd9b1a4421\" style=\"display: none;\"><div style=\"display: table-cell;\"></div><div style=\"display: table-cell;\">level&nbsp;=&nbsp;'glyph',</div></div><div class=\"b99f7e57-70d0-41ba-9317-8bfd9b1a4421\" style=\"display: none;\"><div style=\"display: table-cell;\"></div><div style=\"display: table-cell;\">name&nbsp;=&nbsp;None,</div></div><div class=\"b99f7e57-70d0-41ba-9317-8bfd9b1a4421\" style=\"display: none;\"><div style=\"display: table-cell;\"></div><div style=\"display: table-cell;\">nonselection_glyph&nbsp;=&nbsp;Circle(id='dccf9c21-34f6-4dbf-8fa7-1be332fbd8f9', ...),</div></div><div class=\"b99f7e57-70d0-41ba-9317-8bfd9b1a4421\" style=\"display: none;\"><div style=\"display: table-cell;\"></div><div style=\"display: table-cell;\">selection_glyph&nbsp;=&nbsp;None,</div></div><div class=\"b99f7e57-70d0-41ba-9317-8bfd9b1a4421\" style=\"display: none;\"><div style=\"display: table-cell;\"></div><div style=\"display: table-cell;\">tags&nbsp;=&nbsp;[],</div></div><div class=\"b99f7e57-70d0-41ba-9317-8bfd9b1a4421\" style=\"display: none;\"><div style=\"display: table-cell;\"></div><div style=\"display: table-cell;\">visible&nbsp;=&nbsp;True,</div></div><div class=\"b99f7e57-70d0-41ba-9317-8bfd9b1a4421\" style=\"display: none;\"><div style=\"display: table-cell;\"></div><div style=\"display: table-cell;\">x_range_name&nbsp;=&nbsp;'default',</div></div><div class=\"b99f7e57-70d0-41ba-9317-8bfd9b1a4421\" style=\"display: none;\"><div style=\"display: table-cell;\"></div><div style=\"display: table-cell;\">y_range_name&nbsp;=&nbsp;'default')</div></div></div>\n",
       "<script>\n",
       "(function() {\n",
       "  var expanded = false;\n",
       "  var ellipsis = document.getElementById(\"aaa88f84-78b4-426d-af94-0d3e1357cc86\");\n",
       "  ellipsis.addEventListener(\"click\", function() {\n",
       "    var rows = document.getElementsByClassName(\"b99f7e57-70d0-41ba-9317-8bfd9b1a4421\");\n",
       "    for (var i = 0; i < rows.length; i++) {\n",
       "      var el = rows[i];\n",
       "      el.style.display = expanded ? \"none\" : \"table-row\";\n",
       "    }\n",
       "    ellipsis.innerHTML = expanded ? \"&hellip;)\" : \"&lsaquo;&lsaquo;&lsaquo;\";\n",
       "    expanded = !expanded;\n",
       "  });\n",
       "})();\n",
       "</script>\n"
      ],
      "text/plain": [
       "GlyphRenderer(id='33fdf1fd-a4e5-4b3f-a958-70d252a70ce1', ...)"
      ]
     },
     "execution_count": 49,
     "metadata": {},
     "output_type": "execute_result"
    }
   ],
   "source": [
    "p.circle(plot_data['x'], plot_data['y'][0:len(plot_data['x'])])"
   ]
  },
  {
   "cell_type": "code",
   "execution_count": 52,
   "metadata": {
    "collapsed": false
   },
   "outputs": [],
   "source": [
    "from bokeh.plotting import show\n"
   ]
  },
  {
   "cell_type": "code",
   "execution_count": 54,
   "metadata": {
    "collapsed": false
   },
   "outputs": [],
   "source": [
    "show(p)"
   ]
  },
  {
   "cell_type": "code",
   "execution_count": 58,
   "metadata": {
    "collapsed": false
   },
   "outputs": [],
   "source": [
    "R = RangeSlider(title='Choice',start=0,end=10,step=0.1)"
   ]
  },
  {
   "cell_type": "code",
   "execution_count": 59,
   "metadata": {
    "collapsed": true
   },
   "outputs": [],
   "source": [
    "show(R)"
   ]
  },
  {
   "cell_type": "code",
   "execution_count": null,
   "metadata": {
    "collapsed": true
   },
   "outputs": [],
   "source": []
  }
 ],
 "metadata": {
  "kernelspec": {
   "display_name": "Python 3",
   "language": "python",
   "name": "python3"
  },
  "language_info": {
   "codemirror_mode": {
    "name": "ipython",
    "version": 3
   },
   "file_extension": ".py",
   "mimetype": "text/x-python",
   "name": "python",
   "nbconvert_exporter": "python",
   "pygments_lexer": "ipython3",
   "version": "3.6.0"
  }
 },
 "nbformat": 4,
 "nbformat_minor": 2
}
